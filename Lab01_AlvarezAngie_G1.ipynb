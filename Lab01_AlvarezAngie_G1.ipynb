{
  "nbformat": 4,
  "nbformat_minor": 0,
  "metadata": {
    "colab": {
      "name": "Lab01_AlvarezAngie_G1",
      "provenance": [],
      "authorship_tag": "ABX9TyNPYJNTcHkb+VjpERqUCB4L",
      "include_colab_link": true
    },
    "kernelspec": {
      "name": "python3",
      "display_name": "Python 3"
    },
    "language_info": {
      "name": "python"
    }
  },
  "cells": [
    {
      "cell_type": "markdown",
      "metadata": {
        "id": "view-in-github",
        "colab_type": "text"
      },
      "source": [
        "<a href=\"https://colab.research.google.com/github/AngieAlvareza/my-first-project/blob/master/Lab01_AlvarezAngie_G1.ipynb\" target=\"_parent\"><img src=\"https://colab.research.google.com/assets/colab-badge.svg\" alt=\"Open In Colab\"/></a>"
      ]
    },
    {
      "cell_type": "code",
      "metadata": {
        "id": "xRC1cXBmxPeP"
      },
      "source": [
        "Ejercicio 1.1 \n"
      ],
      "execution_count": null,
      "outputs": []
    },
    {
      "cell_type": "code",
      "metadata": {
        "id": "h8qq2VFR2-Sa"
      },
      "source": [
        "a=\"Mateo Adolfo\""
      ],
      "execution_count": null,
      "outputs": []
    },
    {
      "cell_type": "code",
      "metadata": {
        "colab": {
          "base_uri": "https://localhost:8080/",
          "height": 35
        },
        "id": "_lsdzLt73HWz",
        "outputId": "4ad0e732-483f-4f0e-b978-6169b30c9e61"
      },
      "source": [
        "a[0]"
      ],
      "execution_count": null,
      "outputs": [
        {
          "output_type": "execute_result",
          "data": {
            "application/vnd.google.colaboratory.intrinsic+json": {
              "type": "string"
            },
            "text/plain": [
              "'M'"
            ]
          },
          "metadata": {},
          "execution_count": 2
        }
      ]
    },
    {
      "cell_type": "code",
      "metadata": {
        "colab": {
          "base_uri": "https://localhost:8080/",
          "height": 35
        },
        "id": "LdscGmFKKlNe",
        "outputId": "5f4b149b-b6ce-4b44-a4cb-5759a444360d"
      },
      "source": [
        "a[1]"
      ],
      "execution_count": null,
      "outputs": [
        {
          "output_type": "execute_result",
          "data": {
            "application/vnd.google.colaboratory.intrinsic+json": {
              "type": "string"
            },
            "text/plain": [
              "'a'"
            ]
          },
          "metadata": {},
          "execution_count": 82
        }
      ]
    },
    {
      "cell_type": "code",
      "metadata": {
        "colab": {
          "base_uri": "https://localhost:8080/",
          "height": 35
        },
        "id": "Dlr-_GdcKtMY",
        "outputId": "4a7194b7-28db-4ec3-ca2b-4c5662bac4f1"
      },
      "source": [
        "a[4] "
      ],
      "execution_count": null,
      "outputs": [
        {
          "output_type": "execute_result",
          "data": {
            "application/vnd.google.colaboratory.intrinsic+json": {
              "type": "string"
            },
            "text/plain": [
              "'o'"
            ]
          },
          "metadata": {},
          "execution_count": 83
        }
      ]
    },
    {
      "cell_type": "code",
      "metadata": {
        "colab": {
          "base_uri": "https://localhost:8080/",
          "height": 35
        },
        "id": "HMuWjnRCK33H",
        "outputId": "d643c92e-e447-4d0e-953a-d81db72ac926"
      },
      "source": [
        "a[10]\n"
      ],
      "execution_count": null,
      "outputs": [
        {
          "output_type": "execute_result",
          "data": {
            "application/vnd.google.colaboratory.intrinsic+json": {
              "type": "string"
            },
            "text/plain": [
              "'f'"
            ]
          },
          "metadata": {},
          "execution_count": 86
        }
      ]
    },
    {
      "cell_type": "code",
      "metadata": {
        "colab": {
          "base_uri": "https://localhost:8080/",
          "height": 35
        },
        "id": "r7aGr8_PK_hf",
        "outputId": "720b1994-76ba-4a1c-f47c-6173ab033652"
      },
      "source": [
        "a[-1] "
      ],
      "execution_count": null,
      "outputs": [
        {
          "output_type": "execute_result",
          "data": {
            "application/vnd.google.colaboratory.intrinsic+json": {
              "type": "string"
            },
            "text/plain": [
              "'o'"
            ]
          },
          "metadata": {},
          "execution_count": 87
        }
      ]
    },
    {
      "cell_type": "code",
      "metadata": {
        "id": "IxlW-kJ63vWK"
      },
      "source": [
        "Ejercio 1.1.b"
      ],
      "execution_count": null,
      "outputs": []
    },
    {
      "cell_type": "code",
      "metadata": {
        "colab": {
          "base_uri": "https://localhost:8080/"
        },
        "id": "yh8pa1eZ32X5",
        "outputId": "af9dd536-cf47-4f93-d7f7-f930931fbc6c"
      },
      "source": [
        "n= len(a)\n",
        "n"
      ],
      "execution_count": null,
      "outputs": [
        {
          "output_type": "execute_result",
          "data": {
            "text/plain": [
              "12"
            ]
          },
          "metadata": {},
          "execution_count": 8
        }
      ]
    },
    {
      "cell_type": "code",
      "metadata": {
        "colab": {
          "base_uri": "https://localhost:8080/",
          "height": 35
        },
        "id": "wISgSuR54Abx",
        "outputId": "1621d6ae-fded-47ff-c7a9-037c36e323f6"
      },
      "source": [
        "a[0]"
      ],
      "execution_count": null,
      "outputs": [
        {
          "output_type": "execute_result",
          "data": {
            "application/vnd.google.colaboratory.intrinsic+json": {
              "type": "string"
            },
            "text/plain": [
              "'M'"
            ]
          },
          "metadata": {},
          "execution_count": 9
        }
      ]
    },
    {
      "cell_type": "code",
      "metadata": {
        "colab": {
          "base_uri": "https://localhost:8080/",
          "height": 35
        },
        "id": "GR5uPrCn4GrJ",
        "outputId": "930a695e-3786-4db2-ece5-1430ae97223f"
      },
      "source": [
        "a[n-1]"
      ],
      "execution_count": null,
      "outputs": [
        {
          "output_type": "execute_result",
          "data": {
            "application/vnd.google.colaboratory.intrinsic+json": {
              "type": "string"
            },
            "text/plain": [
              "'o'"
            ]
          },
          "metadata": {},
          "execution_count": 10
        }
      ]
    },
    {
      "cell_type": "markdown",
      "metadata": {
        "id": "Zdc-bHDh4OPK"
      },
      "source": [
        "a[0] y a[n-1] no son iguales ya que a[0] es la primera posición de a , y  a[n-1] es la última posición"
      ]
    },
    {
      "cell_type": "code",
      "metadata": {
        "id": "xgtJRGArLCUg"
      },
      "source": [
        "Ejercicio 1.1.c \n"
      ],
      "execution_count": null,
      "outputs": []
    },
    {
      "cell_type": "code",
      "metadata": {
        "colab": {
          "base_uri": "https://localhost:8080/",
          "height": 35
        },
        "id": "TE1U5ErILEFm",
        "outputId": "815bbe41-6b6b-4468-c1d7-13b52463cfd6"
      },
      "source": [
        "a[-1]"
      ],
      "execution_count": null,
      "outputs": [
        {
          "output_type": "execute_result",
          "data": {
            "application/vnd.google.colaboratory.intrinsic+json": {
              "type": "string"
            },
            "text/plain": [
              "'o'"
            ]
          },
          "metadata": {},
          "execution_count": 90
        }
      ]
    },
    {
      "cell_type": "code",
      "metadata": {
        "colab": {
          "base_uri": "https://localhost:8080/",
          "height": 35
        },
        "id": "NqHdlu9yLL7b",
        "outputId": "dcda3c8b-77cf-4d9d-f5b1-3929809aab80"
      },
      "source": [
        " a[-n]"
      ],
      "execution_count": null,
      "outputs": [
        {
          "output_type": "execute_result",
          "data": {
            "application/vnd.google.colaboratory.intrinsic+json": {
              "type": "string"
            },
            "text/plain": [
              "'M'"
            ]
          },
          "metadata": {},
          "execution_count": 91
        }
      ]
    },
    {
      "cell_type": "markdown",
      "metadata": {
        "id": "H89O_CwTLNAa"
      },
      "source": [
        "a[-1] y  a[-n] son diferentes ya que  a[-1] es el último elemento  y a[-n] es el primer elemento."
      ]
    },
    {
      "cell_type": "code",
      "metadata": {
        "id": "Oug5kQSDLeyx"
      },
      "source": [
        "Ejercicio 1.1.d"
      ],
      "execution_count": null,
      "outputs": []
    },
    {
      "cell_type": "code",
      "metadata": {
        "id": "as0xQP7tLhJ0"
      },
      "source": [
        "a[n]"
      ],
      "execution_count": null,
      "outputs": []
    },
    {
      "cell_type": "markdown",
      "metadata": {
        "id": "T21ywGMsLxo3"
      },
      "source": [
        "En este caso a[n] no existe ya que la última posición es y a[n-1]\n"
      ]
    },
    {
      "cell_type": "code",
      "metadata": {
        "id": "uLOVn9qiL4dX"
      },
      "source": [
        "a[-n-1]"
      ],
      "execution_count": null,
      "outputs": []
    },
    {
      "cell_type": "markdown",
      "metadata": {
        "id": "UTbYjd34LoNQ"
      },
      "source": [
        "a[-n-1] tampoco existe ya que la última posicion es y a[n-1] y no y a[-n-1]"
      ]
    },
    {
      "cell_type": "code",
      "metadata": {
        "id": "mlnFb1xbL-ML"
      },
      "source": [
        "a[1.5] "
      ],
      "execution_count": null,
      "outputs": []
    },
    {
      "cell_type": "code",
      "metadata": {
        "id": "XvCg3cqAMBnQ"
      },
      "source": [
        "a[1.0]"
      ],
      "execution_count": null,
      "outputs": []
    },
    {
      "cell_type": "markdown",
      "metadata": {
        "id": "1mqsXZteMFU4"
      },
      "source": [
        "En este caso a[1.5] y a[1.0] ninguno existe ya que tenemos que indicar una  posición  y 1.5 ni 1.0 es una posición al no ser números enteros"
      ]
    },
    {
      "cell_type": "code",
      "metadata": {
        "id": "b_vgbb054zGK"
      },
      "source": [
        "Ejercicio 1.2.a"
      ],
      "execution_count": null,
      "outputs": []
    },
    {
      "cell_type": "code",
      "metadata": {
        "id": "3e74t2rs5Ynv"
      },
      "source": [
        "a = 'Ana Luisa y Mateo Adolfo'"
      ],
      "execution_count": null,
      "outputs": []
    },
    {
      "cell_type": "code",
      "metadata": {
        "colab": {
          "base_uri": "https://localhost:8080/",
          "height": 35
        },
        "id": "o1BHwriN5dAx",
        "outputId": "90f1ab6e-03ae-4778-876a-a41c315c9ed8"
      },
      "source": [
        "a[0:3]"
      ],
      "execution_count": null,
      "outputs": [
        {
          "output_type": "execute_result",
          "data": {
            "application/vnd.google.colaboratory.intrinsic+json": {
              "type": "string"
            },
            "text/plain": [
              "'Ana'"
            ]
          },
          "metadata": {},
          "execution_count": 13
        }
      ]
    },
    {
      "cell_type": "markdown",
      "metadata": {
        "id": "9eFtkOoZ5xVD"
      },
      "source": [
        "En este caso a[0:3]  se nos muestra las los elementos de posición 0, 1, 2, 3 .\n",
        "'A' es el elemto de posición 0\n",
        "'n' es el elemento de posición 1\n",
        "'a' es el elemento de posición 2\n",
        "' ' es el elemento de posición 3, como podemos pareciar el '*espacio*' cuenta como un elemento"
      ]
    },
    {
      "cell_type": "code",
      "metadata": {
        "colab": {
          "base_uri": "https://localhost:8080/",
          "height": 35
        },
        "id": "7UPcuOH35ka_",
        "outputId": "e6c0bacd-45e2-4fc4-eec1-1f6555429c7b"
      },
      "source": [
        "a[1:3]"
      ],
      "execution_count": null,
      "outputs": [
        {
          "output_type": "execute_result",
          "data": {
            "application/vnd.google.colaboratory.intrinsic+json": {
              "type": "string"
            },
            "text/plain": [
              "'na'"
            ]
          },
          "metadata": {},
          "execution_count": 14
        }
      ]
    },
    {
      "cell_type": "markdown",
      "metadata": {
        "id": "LmQu7Pty6YEK"
      },
      "source": [
        "En este caso a[1:3] se nos muestra los elementos de posición 1,2,3 \n",
        "'n' es el elemento 1\n",
        "'a' es el elemento 2\n",
        "' ' es el elemento 3"
      ]
    },
    {
      "cell_type": "code",
      "metadata": {
        "colab": {
          "base_uri": "https://localhost:8080/",
          "height": 35
        },
        "id": "AUC0oi5T5nli",
        "outputId": "d2185d93-b320-4651-9518-d963b45f1a1e"
      },
      "source": [
        "a[3:3]"
      ],
      "execution_count": null,
      "outputs": [
        {
          "output_type": "execute_result",
          "data": {
            "application/vnd.google.colaboratory.intrinsic+json": {
              "type": "string"
            },
            "text/plain": [
              "''"
            ]
          },
          "metadata": {},
          "execution_count": 111
        }
      ]
    },
    {
      "cell_type": "markdown",
      "metadata": {
        "id": "cBSLRcw9MeI6"
      },
      "source": [
        "En este caso se nos muestra el elemento 3,y este es un espacio en blanco."
      ]
    },
    {
      "cell_type": "code",
      "metadata": {
        "colab": {
          "base_uri": "https://localhost:8080/",
          "height": 35
        },
        "id": "VR9xrXqT5pot",
        "outputId": "ca8b749d-3f5d-493a-dff4-a244b95daca5"
      },
      "source": [
        "a[3:]"
      ],
      "execution_count": null,
      "outputs": [
        {
          "output_type": "execute_result",
          "data": {
            "application/vnd.google.colaboratory.intrinsic+json": {
              "type": "string"
            },
            "text/plain": [
              "' Luisa y Mateo Adolfo'"
            ]
          },
          "metadata": {},
          "execution_count": 16
        }
      ]
    },
    {
      "cell_type": "code",
      "metadata": {
        "colab": {
          "base_uri": "https://localhost:8080/",
          "height": 35
        },
        "id": "qli6N7tEMpm9",
        "outputId": "74788ac2-ce6d-4f4f-d8b1-d97b95c16e10"
      },
      "source": [
        " a[:3] "
      ],
      "execution_count": null,
      "outputs": [
        {
          "output_type": "execute_result",
          "data": {
            "application/vnd.google.colaboratory.intrinsic+json": {
              "type": "string"
            },
            "text/plain": [
              "'Ana'"
            ]
          },
          "metadata": {},
          "execution_count": 121
        }
      ]
    },
    {
      "cell_type": "markdown",
      "metadata": {
        "id": "Lw9bG6HCMrqo"
      },
      "source": [
        "En este caso va desde el elemeto 0 hasta el elemento 3"
      ]
    },
    {
      "cell_type": "code",
      "metadata": {
        "colab": {
          "base_uri": "https://localhost:8080/",
          "height": 35
        },
        "id": "nVztTPHKNgO8",
        "outputId": "2f790d25-40d6-4350-80c3-8dd59ccfb77e"
      },
      "source": [
        "a[:] "
      ],
      "execution_count": null,
      "outputs": [
        {
          "output_type": "execute_result",
          "data": {
            "application/vnd.google.colaboratory.intrinsic+json": {
              "type": "string"
            },
            "text/plain": [
              "'Ana Luisa y Mateo Adolfo'"
            ]
          },
          "metadata": {},
          "execution_count": 109
        }
      ]
    },
    {
      "cell_type": "code",
      "metadata": {
        "id": "53Z4EyXHNuUH"
      },
      "source": [
        "En este caso como no hay valores se asumeo como primer valor0 y el como vlaor final el último elemento "
      ],
      "execution_count": null,
      "outputs": []
    },
    {
      "cell_type": "code",
      "metadata": {
        "colab": {
          "base_uri": "https://localhost:8080/",
          "height": 35
        },
        "id": "eR2x13icN0Xg",
        "outputId": "58a55e4c-69b2-4d2a-8d62-91fd56783e67"
      },
      "source": [
        "a[-1:3] "
      ],
      "execution_count": null,
      "outputs": [
        {
          "output_type": "execute_result",
          "data": {
            "application/vnd.google.colaboratory.intrinsic+json": {
              "type": "string"
            },
            "text/plain": [
              "''"
            ]
          },
          "metadata": {},
          "execution_count": 124
        }
      ]
    },
    {
      "cell_type": "code",
      "metadata": {
        "colab": {
          "base_uri": "https://localhost:8080/",
          "height": 35
        },
        "id": "Xz-GqQxPOI-G",
        "outputId": "4bd6cad1-d4b9-4419-b7df-fed54e299575"
      },
      "source": [
        "a[3:-1] "
      ],
      "execution_count": null,
      "outputs": [
        {
          "output_type": "execute_result",
          "data": {
            "application/vnd.google.colaboratory.intrinsic+json": {
              "type": "string"
            },
            "text/plain": [
              "' Luisa y Mateo Adolf'"
            ]
          },
          "metadata": {},
          "execution_count": 118
        }
      ]
    },
    {
      "cell_type": "markdown",
      "metadata": {
        "id": "3pWVveQ2OMLP"
      },
      "source": [
        "En este caso vamos desde el elemento 3, es decir el espacio ' ' y vamos hasta el elemento -1 es decir hasta 'f' "
      ]
    },
    {
      "cell_type": "markdown",
      "metadata": {
        "id": "6qh40KPON2uR"
      },
      "source": [
        "En este caso  v"
      ]
    },
    {
      "cell_type": "code",
      "metadata": {
        "id": "vF7ZqJDd639l"
      },
      "source": [
        "Ejecicio 1.2.b"
      ],
      "execution_count": null,
      "outputs": []
    },
    {
      "cell_type": "code",
      "metadata": {
        "id": "oYKJhttZ67_R"
      },
      "source": [
        " a == a[:4] + a[4:]"
      ],
      "execution_count": null,
      "outputs": []
    },
    {
      "cell_type": "markdown",
      "metadata": {
        "id": "ksOQRT4p7AN1"
      },
      "source": [
        "Para este ejercicio yo creo que no  mostrará nada ya que al poner dos iguales estamos comparando valores."
      ]
    },
    {
      "cell_type": "code",
      "metadata": {
        "id": "7HtI4fLQ76FI"
      },
      "source": [
        "Ejercicio 1.2.c"
      ],
      "execution_count": null,
      "outputs": []
    },
    {
      "cell_type": "code",
      "metadata": {
        "colab": {
          "base_uri": "https://localhost:8080/",
          "height": 35
        },
        "id": "2Tpj1a4V7-3W",
        "outputId": "53fe82b3-0ef1-4c85-c015-f44895e43dc2"
      },
      "source": [
        "a[2:100]"
      ],
      "execution_count": null,
      "outputs": [
        {
          "output_type": "execute_result",
          "data": {
            "application/vnd.google.colaboratory.intrinsic+json": {
              "type": "string"
            },
            "text/plain": [
              "'a Luisa y Mateo Adolfo'"
            ]
          },
          "metadata": {},
          "execution_count": 17
        }
      ]
    },
    {
      "cell_type": "code",
      "metadata": {
        "colab": {
          "base_uri": "https://localhost:8080/",
          "height": 35
        },
        "id": "qmKAe9lXO6Fu",
        "outputId": "db2fbc47-7bb6-485b-f9bf-89cf3337355f"
      },
      "source": [
        "a[100:2]"
      ],
      "execution_count": null,
      "outputs": [
        {
          "output_type": "execute_result",
          "data": {
            "application/vnd.google.colaboratory.intrinsic+json": {
              "type": "string"
            },
            "text/plain": [
              "''"
            ]
          },
          "metadata": {},
          "execution_count": 125
        }
      ]
    },
    {
      "cell_type": "markdown",
      "metadata": {
        "id": "JOUf3z8sPB4x"
      },
      "source": [
        "En este caso se nos muestra como reusltado una celda vacia y es porque el vlaor inicial está fuera de rango."
      ]
    },
    {
      "cell_type": "code",
      "metadata": {
        "colab": {
          "base_uri": "https://localhost:8080/",
          "height": 35
        },
        "id": "3nXTi_pAPOeh",
        "outputId": "65533ac9-bce3-4e9a-fd96-c35971fdfd29"
      },
      "source": [
        "a[-100:2]"
      ],
      "execution_count": null,
      "outputs": [
        {
          "output_type": "execute_result",
          "data": {
            "application/vnd.google.colaboratory.intrinsic+json": {
              "type": "string"
            },
            "text/plain": [
              "'An'"
            ]
          },
          "metadata": {},
          "execution_count": 126
        }
      ]
    },
    {
      "cell_type": "code",
      "metadata": {
        "id": "TyXEf8d2PScP",
        "colab": {
          "base_uri": "https://localhost:8080/",
          "height": 35
        },
        "outputId": "9f9fd5d6-7a11-4dc1-9320-fb76b012eab1"
      },
      "source": [
        " a[-100:100]\n"
      ],
      "execution_count": null,
      "outputs": [
        {
          "output_type": "execute_result",
          "data": {
            "application/vnd.google.colaboratory.intrinsic+json": {
              "type": "string"
            },
            "text/plain": [
              "'Ana Luisa y Mateo Adolfo'"
            ]
          },
          "metadata": {},
          "execution_count": 127
        }
      ]
    },
    {
      "cell_type": "code",
      "metadata": {
        "id": "cgERVWlq8Y8r"
      },
      "source": [
        "Ejercicio 1.2.d "
      ],
      "execution_count": null,
      "outputs": []
    },
    {
      "cell_type": "code",
      "metadata": {
        "colab": {
          "base_uri": "https://localhost:8080/",
          "height": 35
        },
        "id": "eFL8NF3a8ocJ",
        "outputId": "74b61a69-7ef4-416c-ddbb-36b92d1134d5"
      },
      "source": [
        "a[12:17]"
      ],
      "execution_count": null,
      "outputs": [
        {
          "output_type": "execute_result",
          "data": {
            "application/vnd.google.colaboratory.intrinsic+json": {
              "type": "string"
            },
            "text/plain": [
              "'Mateo'"
            ]
          },
          "metadata": {},
          "execution_count": 19
        }
      ]
    },
    {
      "cell_type": "markdown",
      "metadata": {
        "id": "iWZYS6O48bmE"
      },
      "source": [
        "Se tiene que poner el índice a[12:17] para que nos salga la palabra 'Mateo'\n"
      ]
    },
    {
      "cell_type": "code",
      "metadata": {
        "id": "7ZpIc54b8xSi"
      },
      "source": [
        "Ejercicio 1.2.e "
      ],
      "execution_count": null,
      "outputs": []
    },
    {
      "cell_type": "code",
      "metadata": {
        "colab": {
          "base_uri": "https://localhost:8080/",
          "height": 35
        },
        "id": "DQzXVYph83xY",
        "outputId": "02ad8446-2c7e-48f6-fdaf-3a73c5ec0f39"
      },
      "source": [
        "a[0:4] + a[10:17]"
      ],
      "execution_count": null,
      "outputs": [
        {
          "output_type": "execute_result",
          "data": {
            "application/vnd.google.colaboratory.intrinsic+json": {
              "type": "string"
            },
            "text/plain": [
              "'Ana y Mateo'"
            ]
          },
          "metadata": {},
          "execution_count": 24
        }
      ]
    },
    {
      "cell_type": "code",
      "metadata": {
        "id": "3oR8MM4y87ko"
      },
      "source": [
        "Para obetener los resultados 'Ana y Mateo' tenemos que poner a[0:4] + a[10:17]. Y los valones de r u, v, x y y serían: 0,4,10,17 respectivamente. "
      ],
      "execution_count": null,
      "outputs": []
    },
    {
      "cell_type": "code",
      "metadata": {
        "id": "kulH1qt49nNu"
      },
      "source": [
        "Ejercicio 1.2.f"
      ],
      "execution_count": null,
      "outputs": []
    },
    {
      "cell_type": "code",
      "metadata": {
        "colab": {
          "base_uri": "https://localhost:8080/",
          "height": 35
        },
        "id": "jd5VO2vf9ohD",
        "outputId": "d0e26655-901c-42a8-8f97-126dab461f33"
      },
      "source": [
        " a[0:10:2]"
      ],
      "execution_count": null,
      "outputs": [
        {
          "output_type": "execute_result",
          "data": {
            "application/vnd.google.colaboratory.intrinsic+json": {
              "type": "string"
            },
            "text/plain": [
              "'AaLia'"
            ]
          },
          "metadata": {},
          "execution_count": 25
        }
      ]
    },
    {
      "cell_type": "markdown",
      "metadata": {
        "id": "XiUmWWg--hzS"
      },
      "source": [
        "Se obtienen estos valores ya porque nos muestra los valores intercaladamente porque el tercer parámetro es 2, es decir avanzará de 2 en 2. Entonces no muestra las letras en negrita: **A**n**a** **L**u**i**s**a** y Mateo Adolfo. Y nos muestra solo hasta llegar a la posición 10.  La posición a partir de donde se empieza a contar es la posicón 0 y la posición hasta la cual se llega es 10, 2, es el intervalo, variación o periodo de cuanto en cuanto se avanza\n"
      ]
    },
    {
      "cell_type": "code",
      "metadata": {
        "id": "t9dtu2ZF-7pS"
      },
      "source": [
        ""
      ],
      "execution_count": null,
      "outputs": []
    },
    {
      "cell_type": "code",
      "metadata": {
        "colab": {
          "base_uri": "https://localhost:8080/",
          "height": 35
        },
        "id": "COjy7ey8-Zgo",
        "outputId": "52b466c6-12b3-4ffb-d069-a4cc4e1f1476"
      },
      "source": [
        "a[:10:2]"
      ],
      "execution_count": null,
      "outputs": [
        {
          "output_type": "execute_result",
          "data": {
            "application/vnd.google.colaboratory.intrinsic+json": {
              "type": "string"
            },
            "text/plain": [
              "'AaLia'"
            ]
          },
          "metadata": {},
          "execution_count": 26
        }
      ]
    },
    {
      "cell_type": "code",
      "metadata": {
        "id": "U_W5MfGN_Bh4"
      },
      "source": [
        "Este caso es igual al ejercicio anterior. Al no haber el primer dígido de : \" a[:10:2]\" se asume como 0, y el resultado es exactamente igual al ejercicio anterior. Es decir, Se obtienen estos valores ya porque nos muestra los valores intercaladamente porque el tercer parámetro es 2, es decir avanzará de 2 en 2. Entonces no muestra las letras en negrita: Ana Luisa y Mateo Adolfo. Y nos muestra solo hasta llegar a la posición 10."
      ],
      "execution_count": null,
      "outputs": []
    },
    {
      "cell_type": "code",
      "metadata": {
        "colab": {
          "base_uri": "https://localhost:8080/",
          "height": 35
        },
        "id": "H_ZpYLSq_Uzy",
        "outputId": "802dbcb8-cdb2-4ac1-cab5-05d981ab4d0e"
      },
      "source": [
        " a[-10::2]\n"
      ],
      "execution_count": null,
      "outputs": [
        {
          "output_type": "execute_result",
          "data": {
            "application/vnd.google.colaboratory.intrinsic+json": {
              "type": "string"
            },
            "text/plain": [
              "'toAof'"
            ]
          },
          "metadata": {},
          "execution_count": 27
        }
      ]
    },
    {
      "cell_type": "markdown",
      "metadata": {
        "id": "pKQQja9G_g06"
      },
      "source": [
        "En este ejercicio vamos "
      ]
    },
    {
      "cell_type": "code",
      "metadata": {
        "colab": {
          "base_uri": "https://localhost:8080/",
          "height": 35
        },
        "id": "k26P0ymiABVh",
        "outputId": "c6b24d29-0603-4fc6-e4da-b82568acac58"
      },
      "source": [
        " a[::2]"
      ],
      "execution_count": null,
      "outputs": [
        {
          "output_type": "execute_result",
          "data": {
            "application/vnd.google.colaboratory.intrinsic+json": {
              "type": "string"
            },
            "text/plain": [
              "'AaLiayMtoAof'"
            ]
          },
          "metadata": {},
          "execution_count": 28
        }
      ]
    },
    {
      "cell_type": "code",
      "metadata": {
        "id": "aViFoLLHAtSU"
      },
      "source": [
        "En este caso  asumimos como valro inicial y valor final 0, y 'último valor'. Y avanzamos de 2 en 2 posiciones  desde la posición 0 hasta el último valor. "
      ],
      "execution_count": null,
      "outputs": []
    },
    {
      "cell_type": "code",
      "metadata": {
        "colab": {
          "base_uri": "https://localhost:8080/",
          "height": 35
        },
        "id": "J3ZNTEshACha",
        "outputId": "fc978a10-153e-421b-b3a4-52efadf345b5"
      },
      "source": [
        "a[::-1]"
      ],
      "execution_count": null,
      "outputs": [
        {
          "output_type": "execute_result",
          "data": {
            "application/vnd.google.colaboratory.intrinsic+json": {
              "type": "string"
            },
            "text/plain": [
              "'oflodA oetaM y asiuL anA'"
            ]
          },
          "metadata": {},
          "execution_count": 29
        }
      ]
    },
    {
      "cell_type": "markdown",
      "metadata": {
        "id": "wCA6gnheAI7V"
      },
      "source": [
        "En este caso vamos disminiyendo de -1 en -1 n entonces teniendo  en cuenta que le valor inicial no esta escrito, ni tmapoco el valor final, asumimos 0 como valor inicial . Entonces, partimos  de la posición 0 y vamos de \"-1\" en  \"-1\"  entonces llegamos a la última posición y pasamos a la antepenúltima y asi hasta llegar a la posicion 0, como reusltado tenemos que se lee todo al revés ya que vamos de atras hacia adelante. "
      ]
    },
    {
      "cell_type": "code",
      "metadata": {
        "id": "90UiO98DCQKF"
      },
      "source": [
        "Ejercicio 2a "
      ],
      "execution_count": null,
      "outputs": []
    },
    {
      "cell_type": "code",
      "metadata": {
        "id": "1vmSYME1CTIQ"
      },
      "source": [
        "a=123 ,'mi mama', 456"
      ],
      "execution_count": null,
      "outputs": []
    },
    {
      "cell_type": "code",
      "metadata": {
        "colab": {
          "base_uri": "https://localhost:8080/"
        },
        "id": "o9i7a1NoCqJf",
        "outputId": "459e2930-499a-4079-97ce-73e15a23e928"
      },
      "source": [
        "type(a)"
      ],
      "execution_count": null,
      "outputs": [
        {
          "output_type": "execute_result",
          "data": {
            "text/plain": [
              "tuple"
            ]
          },
          "metadata": {},
          "execution_count": 32
        }
      ]
    },
    {
      "cell_type": "code",
      "metadata": {
        "colab": {
          "base_uri": "https://localhost:8080/"
        },
        "id": "m2jYgVmtC3VI",
        "outputId": "6dea90ad-cbf7-483e-fa75-fdc158615d82"
      },
      "source": [
        "len(a)"
      ],
      "execution_count": null,
      "outputs": [
        {
          "output_type": "execute_result",
          "data": {
            "text/plain": [
              "3"
            ]
          },
          "metadata": {},
          "execution_count": 33
        }
      ]
    },
    {
      "cell_type": "code",
      "metadata": {
        "colab": {
          "base_uri": "https://localhost:8080/",
          "height": 35
        },
        "id": "aIHlE5pqDHB4",
        "outputId": "baabe2ac-3a35-4c6d-b6d5-099f82d03ade"
      },
      "source": [
        "a[1]"
      ],
      "execution_count": null,
      "outputs": [
        {
          "output_type": "execute_result",
          "data": {
            "application/vnd.google.colaboratory.intrinsic+json": {
              "type": "string"
            },
            "text/plain": [
              "'mi mama'"
            ]
          },
          "metadata": {},
          "execution_count": 35
        }
      ]
    },
    {
      "cell_type": "markdown",
      "metadata": {
        "id": "KZUl-A_KDKJ1"
      },
      "source": [
        "Me muestra el valor de el segundo elementro de la tupla"
      ]
    },
    {
      "cell_type": "code",
      "metadata": {
        "id": "i5ekPVSLDS_n"
      },
      "source": [
        "a[20]"
      ],
      "execution_count": null,
      "outputs": []
    },
    {
      "cell_type": "markdown",
      "metadata": {
        "id": "amP0LCsnDPS4"
      },
      "source": [
        "En este caos me debería mostrar el vigpesimo elemento de la tupla, pero nuestra tupla tiene solo 3 elementos, entonces nos muestra error."
      ]
    },
    {
      "cell_type": "code",
      "metadata": {
        "id": "JwXr7pBQDkDq"
      },
      "source": [
        "Ejercicio 2b"
      ],
      "execution_count": null,
      "outputs": []
    },
    {
      "cell_type": "code",
      "metadata": {
        "id": "c_LED3D6Dlbk"
      },
      "source": [
        "a = (5)"
      ],
      "execution_count": null,
      "outputs": []
    },
    {
      "cell_type": "code",
      "metadata": {
        "colab": {
          "base_uri": "https://localhost:8080/"
        },
        "id": "FmVk4dDaDzO3",
        "outputId": "488c82ec-4fba-42a0-cd1b-e0f0f3313d18"
      },
      "source": [
        "type(a)"
      ],
      "execution_count": null,
      "outputs": [
        {
          "output_type": "execute_result",
          "data": {
            "text/plain": [
              "int"
            ]
          },
          "metadata": {},
          "execution_count": 42
        }
      ]
    },
    {
      "cell_type": "markdown",
      "metadata": {
        "id": "E-dFjNcrD4dn"
      },
      "source": [
        "el tipo de a es 'int' es decir *entero* ya que su elemento es un número entero. Su valor es 5. "
      ]
    },
    {
      "cell_type": "code",
      "metadata": {
        "id": "KcAoZZzqEBu9"
      },
      "source": [
        " a = (5,)"
      ],
      "execution_count": null,
      "outputs": []
    },
    {
      "cell_type": "code",
      "metadata": {
        "colab": {
          "base_uri": "https://localhost:8080/"
        },
        "id": "T--JQJxaEDmP",
        "outputId": "31613dc0-b45b-4662-9172-fb7f6b0d83bb"
      },
      "source": [
        "type(a)\n"
      ],
      "execution_count": null,
      "outputs": [
        {
          "output_type": "execute_result",
          "data": {
            "text/plain": [
              "tuple"
            ]
          },
          "metadata": {},
          "execution_count": 46
        }
      ]
    },
    {
      "cell_type": "markdown",
      "metadata": {
        "id": "T1LVHVJPEGFS"
      },
      "source": [
        "El tipo de a ahora es una tupla ya que, tiene dentro de sus elementos un  número entero'5' y un caracter ','. "
      ]
    },
    {
      "cell_type": "code",
      "metadata": {
        "id": "MuSMd4ArEUQs"
      },
      "source": [
        " a = ()"
      ],
      "execution_count": null,
      "outputs": []
    },
    {
      "cell_type": "code",
      "metadata": {
        "colab": {
          "base_uri": "https://localhost:8080/"
        },
        "id": "vstGs6ZTEf8Y",
        "outputId": "0e193380-0395-427f-bd61-05741a86bf48"
      },
      "source": [
        "type(a)"
      ],
      "execution_count": null,
      "outputs": [
        {
          "output_type": "execute_result",
          "data": {
            "text/plain": [
              "tuple"
            ]
          },
          "metadata": {},
          "execution_count": 50
        }
      ]
    },
    {
      "cell_type": "markdown",
      "metadata": {
        "id": "hRV3h0iXEh6m"
      },
      "source": [
        "El tipo de a es una tupla ya es es una tupla vacía. Su valor es vacio\n",
        "\n",
        "*   Elemento de la lista\n",
        "*   Elemento de la lista\n",
        "\n"
      ]
    },
    {
      "cell_type": "code",
      "metadata": {
        "id": "ZuvZ3lcqEl9H"
      },
      "source": [
        "a = (,)"
      ],
      "execution_count": null,
      "outputs": []
    },
    {
      "cell_type": "code",
      "metadata": {
        "id": "ZTpya7rYEuzI"
      },
      "source": [
        "a = ,"
      ],
      "execution_count": null,
      "outputs": []
    },
    {
      "cell_type": "markdown",
      "metadata": {
        "id": "TM9EzmRqE0Pv"
      },
      "source": [
        "En este caso comparamos estas 2 asiganciones con los ejercicios de 1.2.b . En estos casos arroja error porque en el primer caso no hay ningún número para que sea un tupla. Y en esegundo caso faltan los paréntesis y el número."
      ]
    },
    {
      "cell_type": "code",
      "metadata": {
        "id": "rwJ_lwNAFrWu"
      },
      "source": [
        "a,b=1 , 'mi mama'"
      ],
      "execution_count": null,
      "outputs": []
    },
    {
      "cell_type": "code",
      "metadata": {
        "colab": {
          "base_uri": "https://localhost:8080/"
        },
        "id": "Y8PM1nW4F1PG",
        "outputId": "93789ebe-a2b3-452c-852a-b15d4ebaa7f7"
      },
      "source": [
        "a"
      ],
      "execution_count": null,
      "outputs": [
        {
          "output_type": "execute_result",
          "data": {
            "text/plain": [
              "1"
            ]
          },
          "metadata": {},
          "execution_count": 55
        }
      ]
    },
    {
      "cell_type": "code",
      "metadata": {
        "colab": {
          "base_uri": "https://localhost:8080/",
          "height": 35
        },
        "id": "ZXCqwe40F3EB",
        "outputId": "204a6eb7-dcb4-4a57-8d62-1129ac2d04d8"
      },
      "source": [
        "b"
      ],
      "execution_count": null,
      "outputs": [
        {
          "output_type": "execute_result",
          "data": {
            "application/vnd.google.colaboratory.intrinsic+json": {
              "type": "string"
            },
            "text/plain": [
              "'mi mama'"
            ]
          },
          "metadata": {},
          "execution_count": 56
        }
      ]
    },
    {
      "cell_type": "markdown",
      "metadata": {
        "id": "484Jy-DIF4UD"
      },
      "source": [
        "El valor de a es 1 ya que obtiene el valor del primer elemeto. El valor de b, es 'mi mama' porque todo esto es  el segundo elemento. "
      ]
    },
    {
      "cell_type": "code",
      "metadata": {
        "id": "bmRGG2O3GEaP"
      },
      "source": [
        "Ejercicio 1.4.a"
      ],
      "execution_count": null,
      "outputs": []
    },
    {
      "cell_type": "code",
      "metadata": {
        "id": "F_XeDew6GHj_"
      },
      "source": [
        "a=1"
      ],
      "execution_count": null,
      "outputs": []
    },
    {
      "cell_type": "code",
      "metadata": {
        "id": "2OEMSpM6GIL7"
      },
      "source": [
        "b=2"
      ],
      "execution_count": null,
      "outputs": []
    },
    {
      "cell_type": "code",
      "metadata": {
        "colab": {
          "base_uri": "https://localhost:8080/"
        },
        "id": "jNzotI6GGLTn",
        "outputId": "2df512cc-0751-4a61-9117-c9d57de60df3"
      },
      "source": [
        "a"
      ],
      "execution_count": null,
      "outputs": [
        {
          "output_type": "execute_result",
          "data": {
            "text/plain": [
              "1"
            ]
          },
          "metadata": {},
          "execution_count": 59
        }
      ]
    },
    {
      "cell_type": "markdown",
      "metadata": {
        "id": "5N6slthdGNlJ"
      },
      "source": [
        "Verifico el valor de a y este valor es 1"
      ]
    },
    {
      "cell_type": "code",
      "metadata": {
        "colab": {
          "base_uri": "https://localhost:8080/"
        },
        "id": "9s9xuVb1GMfp",
        "outputId": "89322007-49b7-467e-f275-9a0b0e2a5848"
      },
      "source": [
        "b"
      ],
      "execution_count": null,
      "outputs": [
        {
          "output_type": "execute_result",
          "data": {
            "text/plain": [
              "2"
            ]
          },
          "metadata": {},
          "execution_count": 60
        }
      ]
    },
    {
      "cell_type": "markdown",
      "metadata": {
        "id": "1Vx7RaQYGTGN"
      },
      "source": [
        "Verifico el valor de b y este valor es 2"
      ]
    },
    {
      "cell_type": "code",
      "metadata": {
        "id": "281Ac4zBGfwW"
      },
      "source": [
        "Ejercicio 1.4.b"
      ],
      "execution_count": null,
      "outputs": []
    },
    {
      "cell_type": "code",
      "metadata": {
        "id": "F2CPreyDGUbN"
      },
      "source": [
        "a,b = b,a"
      ],
      "execution_count": null,
      "outputs": []
    },
    {
      "cell_type": "code",
      "metadata": {
        "colab": {
          "base_uri": "https://localhost:8080/"
        },
        "id": "xrjuRCsOGYP4",
        "outputId": "7dc52e96-f504-456e-f179-d621e47706e3"
      },
      "source": [
        "a"
      ],
      "execution_count": null,
      "outputs": [
        {
          "output_type": "execute_result",
          "data": {
            "text/plain": [
              "2"
            ]
          },
          "metadata": {},
          "execution_count": 62
        }
      ]
    },
    {
      "cell_type": "code",
      "metadata": {
        "colab": {
          "base_uri": "https://localhost:8080/"
        },
        "id": "Nx4Wd4tVGZE7",
        "outputId": "e51d72b5-4c38-4a42-acc9-365dfdce743e"
      },
      "source": [
        "b"
      ],
      "execution_count": null,
      "outputs": [
        {
          "output_type": "execute_result",
          "data": {
            "text/plain": [
              "1"
            ]
          },
          "metadata": {},
          "execution_count": 63
        }
      ]
    },
    {
      "cell_type": "markdown",
      "metadata": {
        "id": "uK1N1_WmGaLg"
      },
      "source": [
        "Como podemos observar los valores de a y b se han intercambiado. "
      ]
    },
    {
      "cell_type": "code",
      "metadata": {
        "id": "KJEJw6GpGiUQ"
      },
      "source": [
        "Ejercicio 1.4.c\n"
      ],
      "execution_count": null,
      "outputs": []
    },
    {
      "cell_type": "code",
      "metadata": {
        "id": "XFeFVSs6GldS"
      },
      "source": [
        "a,b=1,2"
      ],
      "execution_count": null,
      "outputs": []
    },
    {
      "cell_type": "code",
      "metadata": {
        "id": "H_PZ0l5GGoAw"
      },
      "source": [
        "a,b= a+b, a-b"
      ],
      "execution_count": null,
      "outputs": []
    },
    {
      "cell_type": "code",
      "metadata": {
        "colab": {
          "base_uri": "https://localhost:8080/"
        },
        "id": "Rn5DcnieGsZA",
        "outputId": "8a02f75a-4bda-4c09-fdde-35534dd24597"
      },
      "source": [
        "a,b"
      ],
      "execution_count": null,
      "outputs": [
        {
          "output_type": "execute_result",
          "data": {
            "text/plain": [
              "(3, -1)"
            ]
          },
          "metadata": {},
          "execution_count": 66
        }
      ]
    },
    {
      "cell_type": "markdown",
      "metadata": {
        "id": "pBjYMLEBHKJZ"
      },
      "source": [
        "Podemos observar ahora que primero asignamos los valores 1 y 2 a a y b respectivamente; a continuación, hacemos las operaciones matemáticas de estos, 1+2(a+b) y 1-2(a-b)\n",
        ", y estos resultan 3 y -1 como se oberva. \n"
      ]
    },
    {
      "cell_type": "code",
      "metadata": {
        "id": "aLhXWIwMGu3z"
      },
      "source": [
        "Ejercicio 1.4.d"
      ],
      "execution_count": null,
      "outputs": []
    },
    {
      "cell_type": "code",
      "metadata": {
        "id": "tCl2O-2GHIG2"
      },
      "source": [
        "r=a%b"
      ],
      "execution_count": null,
      "outputs": []
    },
    {
      "cell_type": "code",
      "metadata": {
        "id": "vNZdWoy2HS9v"
      },
      "source": [
        "a=b\n"
      ],
      "execution_count": null,
      "outputs": []
    },
    {
      "cell_type": "code",
      "metadata": {
        "id": "0bAFQu3dHTya"
      },
      "source": [
        "b=r "
      ],
      "execution_count": null,
      "outputs": []
    },
    {
      "cell_type": "code",
      "metadata": {
        "id": "zI8ar6ZwHWlI"
      },
      "source": [
        "#máximo comun divisior de a y b \n",
        "def mcd2 (a,b):\n",
        "  a=abs(a)\n",
        "  b=abs(b)\n",
        "  while b!=0:\n",
        "    r=a%b\n",
        "    a=b\n",
        "    b=r\n",
        "    return a"
      ],
      "execution_count": null,
      "outputs": []
    },
    {
      "cell_type": "code",
      "metadata": {
        "id": "8C35wN--IRlZ"
      },
      "source": [
        "Ejericicio 1.5.a"
      ],
      "execution_count": null,
      "outputs": []
    },
    {
      "cell_type": "markdown",
      "metadata": {
        "id": "3ZnBCKIRIpYn"
      },
      "source": [
        "Según Parzubyte define Divmod como \"La función divmod en Python hace una división, la misma que podríamos hacer con el operador de división; pero esta devuelve dos valores: el cociente y el residuo\""
      ]
    },
    {
      "cell_type": "markdown",
      "metadata": {
        "id": "ZUodvbVWI6yZ"
      },
      "source": [
        "Además, Según ProgrammerClick es \"Esta función acepta dos parámetros numéricos (no complejos) y devuelve una tupla que consta del cociente y el resto de la división de estos dos valores.\"\n",
        "\n",
        "```\n",
        "# Esto tiene formato de código\n",
        "```\n",
        "\n"
      ]
    },
    {
      "cell_type": "code",
      "metadata": {
        "colab": {
          "base_uri": "https://localhost:8080/"
        },
        "id": "386AqrynJQen",
        "outputId": "83c51e7c-98d5-44a2-db6a-17778965291d"
      },
      "source": [
        "divmod(6,5)"
      ],
      "execution_count": null,
      "outputs": [
        {
          "output_type": "execute_result",
          "data": {
            "text/plain": [
              "(1, 1)"
            ]
          },
          "metadata": {},
          "execution_count": 72
        }
      ]
    },
    {
      "cell_type": "markdown",
      "metadata": {
        "id": "FHACQwbYJWQr"
      },
      "source": [
        "Como observamos nos devuelve el cociente, 1 y el residuo 1, "
      ]
    },
    {
      "cell_type": "code",
      "metadata": {
        "colab": {
          "base_uri": "https://localhost:8080/"
        },
        "id": "A_Zh6mKsJcEO",
        "outputId": "1fbc676d-8610-481c-861f-19a1abade610"
      },
      "source": [
        "divmod (15,3)"
      ],
      "execution_count": null,
      "outputs": [
        {
          "output_type": "execute_result",
          "data": {
            "text/plain": [
              "(5, 0)"
            ]
          },
          "metadata": {},
          "execution_count": 73
        }
      ]
    },
    {
      "cell_type": "markdown",
      "metadata": {
        "id": "0hzxNVsGJefM"
      },
      "source": [
        "En este caso el cociente es 5 ya que 5*3=15, y el residuo es 0"
      ]
    },
    {
      "cell_type": "code",
      "metadata": {
        "colab": {
          "base_uri": "https://localhost:8080/"
        },
        "id": "UCWqGMdxJjpg",
        "outputId": "deb26411-a22c-409e-f9a4-401c510e750b"
      },
      "source": [
        "divmod(20,3)"
      ],
      "execution_count": null,
      "outputs": [
        {
          "output_type": "execute_result",
          "data": {
            "text/plain": [
              "(6, 2)"
            ]
          },
          "metadata": {},
          "execution_count": 74
        }
      ]
    },
    {
      "cell_type": "markdown",
      "metadata": {
        "id": "fiFoZo16Jl_Q"
      },
      "source": [
        "En este caso el cociente es 6 (6*3=18) y el residuo es 2 ya que (20-18) es 2. "
      ]
    },
    {
      "cell_type": "code",
      "metadata": {
        "id": "qxU9a541JsQK"
      },
      "source": [
        "1.5.b"
      ],
      "execution_count": null,
      "outputs": []
    },
    {
      "cell_type": "code",
      "metadata": {
        "id": "ijsPHybpJ3Rf"
      },
      "source": [
        ""
      ],
      "execution_count": null,
      "outputs": []
    },
    {
      "cell_type": "markdown",
      "metadata": {
        "id": "xQc-qUx4J23n"
      },
      "source": [
        ""
      ]
    }
  ]
}